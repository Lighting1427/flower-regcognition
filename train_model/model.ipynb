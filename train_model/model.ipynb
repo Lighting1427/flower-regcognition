{
 "cells": [
  {
   "cell_type": "markdown",
   "id": "4ac26d45",
   "metadata": {},
   "source": [
    "เตรียมไลบรารี"
   ]
  },
  {
   "cell_type": "code",
   "execution_count": 3,
   "id": "887947af",
   "metadata": {},
   "outputs": [],
   "source": [
    "import numpy as np \n",
    "import pandas as pd\n",
    "import cv2\n",
    "import matplotlib.pyplot as plt\n",
    "from PIL import Image\n",
    "import zipfile\n",
    "import os\n",
    "import keras\n",
    "from keras.preprocessing import image\n",
    "from tensorflow.keras.preprocessing.image import ImageDataGenerator, load_img\n",
    "from tensorflow.keras.models import Sequential\n",
    "from tensorflow.keras.layers import Conv2D, MaxPooling2D, Activation, Dropout, Flatten, Dense\n",
    "from tensorflow.keras.optimizers import Adam\n",
    "import tensorflow as tf"
   ]
  },
  {
   "cell_type": "code",
   "execution_count": 4,
   "id": "ef81f776",
   "metadata": {},
   "outputs": [
    {
     "name": "stdout",
     "output_type": "stream",
     "text": [
      "Num GPUs Available: 2\n",
      "[PhysicalDevice(name='/physical_device:GPU:0', device_type='GPU'), PhysicalDevice(name='/physical_device:GPU:1', device_type='GPU')]\n"
     ]
    }
   ],
   "source": [
    "import tensorflow as tf\n",
    "print(\"Num GPUs Available:\", len(tf.config.list_physical_devices('GPU')))\n",
    "print(tf.config.list_physical_devices('GPU'))\n"
   ]
  },
  {
   "cell_type": "markdown",
   "id": "b1e813b1",
   "metadata": {},
   "source": [
    "เตรียมข้อมูล"
   ]
  },
  {
   "cell_type": "markdown",
   "id": "2e3b4fed",
   "metadata": {},
   "source": [
    "data มาจาก https://www.kaggle.com/datasets/alxmamaev/flowers-recognition"
   ]
  },
  {
   "cell_type": "code",
   "execution_count": 5,
   "id": "fd5008c5",
   "metadata": {},
   "outputs": [
    {
     "name": "stdout",
     "output_type": "stream",
     "text": [
      "Found 3457 images belonging to 5 classes.\n",
      "Found 860 images belonging to 5 classes.\n"
     ]
    }
   ],
   "source": [
    "img_size = 224\n",
    "batch = 64\n",
    "base_dir = 'flowers/'\n",
    "\n",
    "train_datagen = ImageDataGenerator(rescale=1. / 255,\n",
    "                                   shear_range=0.2,\n",
    "                                   zoom_range=0.2,\n",
    "                                   horizontal_flip=True,\n",
    "                                   validation_split=0.2)\n",
    "\n",
    "test_datagen = ImageDataGenerator(rescale=1. / 255,\n",
    "                                  validation_split=0.2)\n",
    "\n",
    "train_data = train_datagen.flow_from_directory(base_dir,\n",
    "                                               target_size=(img_size, img_size),\n",
    "                                               subset='training',\n",
    "                                               batch_size=batch,\n",
    "                                               class_mode='categorical')\n",
    "\n",
    "test_data = test_datagen.flow_from_directory(base_dir,\n",
    "                                             target_size=(img_size, img_size),\n",
    "                                             subset='validation',\n",
    "                                             batch_size=batch,\n",
    "                                             class_mode='categorical')\n"
   ]
  },
  {
   "cell_type": "markdown",
   "id": "3be93527",
   "metadata": {},
   "source": [
    "สร้างโมเดล CNN"
   ]
  },
  {
   "cell_type": "code",
   "execution_count": 6,
   "id": "f6153e19",
   "metadata": {},
   "outputs": [
    {
     "name": "stdout",
     "output_type": "stream",
     "text": [
      "Model: \"sequential\"\n",
      "_________________________________________________________________\n",
      " Layer (type)                Output Shape              Param #   \n",
      "=================================================================\n",
      " conv2d (Conv2D)             (None, 224, 224, 64)      4864      \n",
      "                                                                 \n",
      " max_pooling2d (MaxPooling2D  (None, 112, 112, 64)     0         \n",
      " )                                                               \n",
      "                                                                 \n",
      " conv2d_1 (Conv2D)           (None, 112, 112, 64)      36928     \n",
      "                                                                 \n",
      " max_pooling2d_1 (MaxPooling  (None, 56, 56, 64)       0         \n",
      " 2D)                                                             \n",
      "                                                                 \n",
      " conv2d_2 (Conv2D)           (None, 56, 56, 64)        36928     \n",
      "                                                                 \n",
      " max_pooling2d_2 (MaxPooling  (None, 28, 28, 64)       0         \n",
      " 2D)                                                             \n",
      "                                                                 \n",
      " conv2d_3 (Conv2D)           (None, 28, 28, 64)        36928     \n",
      "                                                                 \n",
      " max_pooling2d_3 (MaxPooling  (None, 14, 14, 64)       0         \n",
      " 2D)                                                             \n",
      "                                                                 \n",
      " flatten (Flatten)           (None, 12544)             0         \n",
      "                                                                 \n",
      " dense (Dense)               (None, 512)               6423040   \n",
      "                                                                 \n",
      " activation (Activation)     (None, 512)               0         \n",
      "                                                                 \n",
      " dense_1 (Dense)             (None, 5)                 2565      \n",
      "                                                                 \n",
      "=================================================================\n",
      "Total params: 6,541,253\n",
      "Trainable params: 6,541,253\n",
      "Non-trainable params: 0\n",
      "_________________________________________________________________\n"
     ]
    }
   ],
   "source": [
    "model = Sequential()\n",
    "model.add(Conv2D(64, (5, 5), padding='same', activation='relu', input_shape=(224, 224, 3)))\n",
    "model.add(MaxPooling2D(pool_size=(2, 2)))\n",
    "\n",
    "model.add(Conv2D(64, (3, 3), padding='same', activation='relu'))\n",
    "model.add(MaxPooling2D(pool_size=(2, 2), strides=(2, 2)))\n",
    "\n",
    "model.add(Conv2D(64, (3, 3), padding='same', activation='relu'))\n",
    "model.add(MaxPooling2D(pool_size=(2, 2), strides=(2, 2)))\n",
    "\n",
    "model.add(Conv2D(64, (3, 3), padding='same', activation='relu'))\n",
    "model.add(MaxPooling2D(pool_size=(2, 2), strides=(2, 2)))\n",
    "\n",
    "model.add(Flatten())\n",
    "model.add(Dense(512))\n",
    "model.add(Activation('relu'))\n",
    "model.add(Dense(5, activation='softmax'))\n",
    "\n",
    "model.summary()"
   ]
  },
  {
   "cell_type": "code",
   "execution_count": 7,
   "id": "71c472ca",
   "metadata": {},
   "outputs": [],
   "source": [
    "# ให้ TensorFlow log ว่าใช้ device ไหน\n",
    "tf.debugging.set_log_device_placement(True)\n"
   ]
  },
  {
   "cell_type": "code",
   "execution_count": 8,
   "id": "789f4a2d",
   "metadata": {},
   "outputs": [
    {
     "name": "stdout",
     "output_type": "stream",
     "text": [
      "🧠 Found GPU: [PhysicalDevice(name='/physical_device:GPU:0', device_type='GPU'), PhysicalDevice(name='/physical_device:GPU:1', device_type='GPU')]\n"
     ]
    }
   ],
   "source": [
    "physical_devices = tf.config.list_physical_devices('GPU')\n",
    "print(\"🧠 Found GPU:\", physical_devices)"
   ]
  },
  {
   "cell_type": "markdown",
   "id": "115cf3ec",
   "metadata": {},
   "source": [
    "Compile และฝึกโมเดล"
   ]
  },
  {
   "cell_type": "code",
   "execution_count": 10,
   "id": "8410c83c",
   "metadata": {},
   "outputs": [
    {
     "name": "stdout",
     "output_type": "stream",
     "text": [
      "Epoch 1/30\n",
      "55/55 [==============================] - 26s 461ms/step - loss: 1.0742 - accuracy: 0.5728 - val_loss: 0.9775 - val_accuracy: 0.5977\n",
      "Epoch 2/30\n",
      "55/55 [==============================] - 29s 528ms/step - loss: 0.9596 - accuracy: 0.6222 - val_loss: 1.1640 - val_accuracy: 0.5244\n",
      "Epoch 3/30\n",
      "55/55 [==============================] - 27s 476ms/step - loss: 0.9036 - accuracy: 0.6500 - val_loss: 0.9441 - val_accuracy: 0.6442\n",
      "Epoch 4/30\n",
      "55/55 [==============================] - 28s 507ms/step - loss: 0.8377 - accuracy: 0.6766 - val_loss: 0.8596 - val_accuracy: 0.6686\n",
      "Epoch 5/30\n",
      "55/55 [==============================] - 26s 469ms/step - loss: 0.7710 - accuracy: 0.7041 - val_loss: 0.8458 - val_accuracy: 0.6698\n",
      "Epoch 6/30\n",
      "55/55 [==============================] - 25s 450ms/step - loss: 0.7252 - accuracy: 0.7246 - val_loss: 0.8554 - val_accuracy: 0.6802\n",
      "Epoch 7/30\n",
      "55/55 [==============================] - 25s 449ms/step - loss: 0.6774 - accuracy: 0.7399 - val_loss: 0.8200 - val_accuracy: 0.7116\n",
      "Epoch 8/30\n",
      "55/55 [==============================] - 24s 429ms/step - loss: 0.6125 - accuracy: 0.7640 - val_loss: 0.8889 - val_accuracy: 0.7070\n",
      "Epoch 9/30\n",
      "55/55 [==============================] - 25s 448ms/step - loss: 0.7637 - accuracy: 0.7154 - val_loss: 0.9006 - val_accuracy: 0.6535\n",
      "Epoch 10/30\n",
      "55/55 [==============================] - 24s 431ms/step - loss: 0.6904 - accuracy: 0.7324 - val_loss: 1.0172 - val_accuracy: 0.6407\n",
      "Epoch 11/30\n",
      "55/55 [==============================] - 26s 459ms/step - loss: 0.5953 - accuracy: 0.7790 - val_loss: 0.8647 - val_accuracy: 0.6686\n",
      "Epoch 12/30\n",
      "55/55 [==============================] - 25s 448ms/step - loss: 0.4988 - accuracy: 0.8166 - val_loss: 0.9743 - val_accuracy: 0.6837\n",
      "Epoch 13/30\n",
      "55/55 [==============================] - 24s 436ms/step - loss: 0.4721 - accuracy: 0.8186 - val_loss: 0.9509 - val_accuracy: 0.6953\n",
      "Epoch 14/30\n",
      "55/55 [==============================] - 27s 484ms/step - loss: 0.4117 - accuracy: 0.8513 - val_loss: 0.9073 - val_accuracy: 0.6860\n",
      "Epoch 15/30\n",
      "55/55 [==============================] - 27s 480ms/step - loss: 0.3881 - accuracy: 0.8617 - val_loss: 0.9903 - val_accuracy: 0.6709\n",
      "Epoch 16/30\n",
      "55/55 [==============================] - 27s 484ms/step - loss: 0.3151 - accuracy: 0.8779 - val_loss: 1.1287 - val_accuracy: 0.6884\n",
      "Epoch 17/30\n",
      "55/55 [==============================] - 27s 478ms/step - loss: 0.3244 - accuracy: 0.8800 - val_loss: 1.0848 - val_accuracy: 0.6930\n",
      "Epoch 18/30\n",
      "55/55 [==============================] - 26s 472ms/step - loss: 0.2814 - accuracy: 0.9040 - val_loss: 1.2021 - val_accuracy: 0.6977\n",
      "Epoch 19/30\n",
      "55/55 [==============================] - 26s 472ms/step - loss: 0.2416 - accuracy: 0.9187 - val_loss: 1.2669 - val_accuracy: 0.7023\n",
      "Epoch 20/30\n",
      "55/55 [==============================] - 26s 476ms/step - loss: 0.2006 - accuracy: 0.9291 - val_loss: 1.2805 - val_accuracy: 0.6953\n",
      "Epoch 21/30\n",
      "55/55 [==============================] - 27s 493ms/step - loss: 0.1740 - accuracy: 0.9465 - val_loss: 1.3466 - val_accuracy: 0.6814\n",
      "Epoch 22/30\n",
      "55/55 [==============================] - 27s 480ms/step - loss: 0.1636 - accuracy: 0.9462 - val_loss: 1.5186 - val_accuracy: 0.6756\n",
      "Epoch 23/30\n",
      "55/55 [==============================] - 27s 483ms/step - loss: 0.4546 - accuracy: 0.8487 - val_loss: 1.2360 - val_accuracy: 0.6512\n",
      "Epoch 24/30\n",
      "55/55 [==============================] - 27s 481ms/step - loss: 0.4618 - accuracy: 0.8389 - val_loss: 1.0581 - val_accuracy: 0.6698\n",
      "Epoch 25/30\n",
      "55/55 [==============================] - 27s 478ms/step - loss: 0.2740 - accuracy: 0.9071 - val_loss: 1.2568 - val_accuracy: 0.6919\n",
      "Epoch 26/30\n",
      "55/55 [==============================] - 26s 468ms/step - loss: 0.1702 - accuracy: 0.9436 - val_loss: 1.3803 - val_accuracy: 0.6837\n",
      "Epoch 27/30\n",
      "55/55 [==============================] - 26s 468ms/step - loss: 0.1322 - accuracy: 0.9531 - val_loss: 1.4975 - val_accuracy: 0.6884\n",
      "Epoch 28/30\n",
      "55/55 [==============================] - 27s 481ms/step - loss: 0.1288 - accuracy: 0.9557 - val_loss: 1.5873 - val_accuracy: 0.6837\n",
      "Epoch 29/30\n",
      "55/55 [==============================] - 27s 482ms/step - loss: 0.0972 - accuracy: 0.9702 - val_loss: 1.6072 - val_accuracy: 0.6919\n",
      "Epoch 30/30\n",
      "55/55 [==============================] - 26s 469ms/step - loss: 0.0846 - accuracy: 0.9714 - val_loss: 1.8032 - val_accuracy: 0.6837\n"
     ]
    },
    {
     "data": {
      "text/plain": [
       "<keras.callbacks.History at 0x2de0dbd2860>"
      ]
     },
     "execution_count": 10,
     "metadata": {},
     "output_type": "execute_result"
    }
   ],
   "source": [
    "model.compile(optimizer=Adam(),\n",
    "              loss='categorical_crossentropy',\n",
    "              metrics=['accuracy'])\n",
    "\n",
    "model.fit(train_data, epochs=30, validation_data=test_data)"
   ]
  },
  {
   "cell_type": "markdown",
   "id": "791e3d5c",
   "metadata": {},
   "source": [
    "บันทึกโมเดล"
   ]
  },
  {
   "cell_type": "code",
   "execution_count": 11,
   "id": "61cfe0cf",
   "metadata": {},
   "outputs": [],
   "source": [
    "model.save('Model.h5')"
   ]
  }
 ],
 "metadata": {
  "kernelspec": {
   "display_name": "myenv",
   "language": "python",
   "name": "python3"
  },
  "language_info": {
   "codemirror_mode": {
    "name": "ipython",
    "version": 3
   },
   "file_extension": ".py",
   "mimetype": "text/x-python",
   "name": "python",
   "nbconvert_exporter": "python",
   "pygments_lexer": "ipython3",
   "version": "3.10.16"
  }
 },
 "nbformat": 4,
 "nbformat_minor": 5
}
